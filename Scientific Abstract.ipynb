{
 "cells": [
  {
   "cell_type": "markdown",
   "id": "bba286db-4d60-4bc2-b572-36d058a0748b",
   "metadata": {},
   "source": [
    "# Informative Abstracts\n",
    "\n",
    "### Background\n",
    "I believe that there exists huge inequality, whether in gender, race, or income in our current world, and income is one of the most inflential one. I want to present data and analysis in the field of education to raise people's awareness of some huge gaps might still exist even though we have come a long way.\n",
    "\n",
    "### Purpose of research\n",
    "To explore the relationship between educational attainment and personal income in the state of California and to identify how income inequality is related to the college completion rate(different educational attainment).\n",
    "\n",
    "### Method used\n",
    "I used a bar chart and scattered plot to visualize the relationship between personal income for residents in California and their educational attainment.\n",
    "\n",
    "### Findings\n",
    "Higher personal income level accounts by more people with higher educational attainment, bachelor's degree or higher.\n",
    "\n",
    "With an advanced degree, bachelor's degree or higher, residents in California are the most people within the highest personal income group, 75000 dollars or higher.\n",
    "\n",
    "### Conclusion\n",
    "High-income people tend to have higher education levels/attainment, and most of them have completed at least Bachelor's degree or higher. Conversely, the lower the income, the less people without a bachelor's degree, and they tend to drop out of high school."
   ]
  }
 ],
 "metadata": {
  "kernelspec": {
   "display_name": "Python 3 (ipykernel)",
   "language": "python",
   "name": "python3"
  },
  "language_info": {
   "codemirror_mode": {
    "name": "ipython",
    "version": 3
   },
   "file_extension": ".py",
   "mimetype": "text/x-python",
   "name": "python",
   "nbconvert_exporter": "python",
   "pygments_lexer": "ipython3",
   "version": "3.9.7"
  }
 },
 "nbformat": 4,
 "nbformat_minor": 5
}

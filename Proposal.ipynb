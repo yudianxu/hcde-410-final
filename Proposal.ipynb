{
 "cells": [
  {
   "cell_type": "markdown",
   "id": "1afbfdf8-6934-4c35-9f2e-d6ea68fdd0ec",
   "metadata": {},
   "source": [
    "### Motivation and problem statement: "
   ]
  },
  {
   "cell_type": "markdown",
   "id": "fed473fb-c09e-45d3-bab3-41daa9b77045",
   "metadata": {},
   "source": [
    "There exists huge inequality, whether in gender, race, or income, in our current world. Among all of that, income is one of the most important factors. I want to present data and analysis in this field to raise people's awareness of such a gap, and hopefully, it can remind us how privileged we are. I hope to explore the relationship between educational attainment and personal income in the state of California. My research goal is to identify how is income inequality related to the college completion rate? (compare the income value of different groups with their corresponding college completion status)"
   ]
  },
  {
   "cell_type": "markdown",
   "id": "bda0c53a-512f-47d8-a1e5-5e98954688d8",
   "metadata": {},
   "source": [
    "### Data selected for analysis:"
   ]
  },
  {
   "cell_type": "markdown",
   "id": "952dbc4f-0f75-4c7f-b32c-05ce97967e7b",
   "metadata": {},
   "source": [
    "I plan to use the California Educational Attainment and Personal Income as captured by the U.S. Census Current Population Survey. It records the year of the survey completed, age of the individual, sex of the individual, level of education completed, income level of the individual, and the number of individuals within the associated category. \n",
    "\n",
    "The link to the dataset: https://data.ca.gov/dataset/ca-educational-attainment-personal-income\n",
    "\n",
    "I will specifically focus on the level of education completed and the individual's income level to analyze the relationship between them, which reflects education inequality. Some identify income inequality as an ethical problem, some as an economic problem, which is an ethical consideration I should think about. This dataset is public data that has no restrictions on public use.\n"
   ]
  },
  {
   "cell_type": "markdown",
   "id": "144bad1e-e64d-4264-b549-2230d1a9d179",
   "metadata": {},
   "source": [
    "### Unknowns and dependencies: "
   ]
  },
  {
   "cell_type": "markdown",
   "id": "0b61e4e7-80a2-4af1-b709-9ca7d56e6502",
   "metadata": {},
   "source": [
    "The dataset is pretty straightforward, and I think I can finish the project by the end of the quarter. Besides that, I may need more data to support my findings and conclusions.\n",
    "\n",
    "During class time, Nathan suggested that I should look for data in Seattle and focus on the local community. I thought the suggestion was excellent, and I tried to find similar documents and datasets provided by Washington State, but I couldn't find any. In this case, I just keep using the data from the California Department of Finance.\n"
   ]
  },
  {
   "cell_type": "markdown",
   "id": "eb7b9f13-e3ab-40bf-b564-c52ac284f0d6",
   "metadata": {},
   "source": [
    "### Research questions\n",
    "Before I started this project, I made an assumption that the more annual salary you get, the higher your educational attainment you have. I want to explore people's educational attainment from different personal income groups in California. In this case, to present data and analysis in the field of education inequality to raise people's awareness of some huge gaps that might still exist even though we have come a long way.\n",
    "\n",
    "Research questions:\n",
    "1. What is the impact of an advanced degree on people in California over the course of their annual salary?\n",
    "2. In specific personal income level, what level of educational attainment accounts for the largest proportion? \n",
    "\n",
    "Hypothesis: \n",
    "Earning a bachelor's degree or higher is associated with an increase of 20% in career annual salaries for people in California compared to similar people who have a  high school degree or equivalent\n"
   ]
  },
  {
   "cell_type": "markdown",
   "id": "1f725112-ccd1-4361-8dcb-9f58fa66df68",
   "metadata": {},
   "source": [
    "### Background\n",
    "\n",
    "For 25- to 34-year-olds who worked full time, year round in 2019, higher educational attainment was associated with higher median earnings. This pattern was consistent from 2010 through 2019. For example, in 2019 the median earnings of those with a master’s or higher degree (70,000 dollors) were 26 percent higher than the earnings of those with a bachelor's degre (55,700 dollors), and the median earnings of those with a bachelor’s degree were 59 percent higher than the earnings of those who completed high school (35,000 dollors)\n",
    "\n",
    "https://nces.ed.gov/programs/coe/indicator/cba\n",
    "\n",
    "U.S. citizens with a professional degree had the highest median household income in 2020, at 151,560 U.S. dollars. In comparison, those with less than a 9th grade education made significantly less money, at 29,609 U.S. dollars.\n",
    "\n",
    "https://www.statista.com/statistics/233301/median-household-income-in-the-united-states-by-education/\n",
    "\n",
    "Most of the studies I showed present data in the bar chart to show the demographics of the data or the line chart to show the increment or decrement of the salary or population change in the annual salary of residents in California. To display the relationship between personal income and educational attainment, I can show the demographics of the data in a bar chart to better visualize it. "
   ]
  },
  {
   "cell_type": "markdown",
   "id": "13a77a02-2167-4c33-8fb9-545f56c8a037",
   "metadata": {},
   "source": [
    "### Methodology\n",
    "I will use ordinary least squares estimating coefficients of linear regression equations, which describe the relationship between the annual salary for residents in California and their educational attainment.\n",
    "\n",
    "I will present my data like I said, in a bar chart or line chart to better visualize the relationship between personal income for residents in California and their educational attainment \n",
    "\n",
    "Bar charts are a fundamental visualization for comparing values between groups of data. A bar chart shows the frequency counts of educational attainment for the different personal income levels for residents in California. Sometimes, percentages can also be shown in the bar chart. \n",
    "\n",
    "To gather data, I will use the California Educational Attainment and Personal Income as captured by the U.S. Census Current Population Survey. The data can download as a CSV file to better analyze it. \n",
    "\n",
    "During the analysis process, I will use python to calculate the population of each educational attainment in different personal income groups and compare them. Also, to calculate the percentage of a specific income group who gain an advanced degree. \n",
    "\n",
    "When presenting the data, I will have a slide deck to generate all the insights and findings I got from this project \n",
    "\n"
   ]
  },
  {
   "cell_type": "code",
   "execution_count": null,
   "id": "d621fd3f-52d0-4665-90c0-762fe241b3c0",
   "metadata": {},
   "outputs": [],
   "source": []
  }
 ],
 "metadata": {
  "kernelspec": {
   "display_name": "Python 3 (ipykernel)",
   "language": "python",
   "name": "python3"
  },
  "language_info": {
   "codemirror_mode": {
    "name": "ipython",
    "version": 3
   },
   "file_extension": ".py",
   "mimetype": "text/x-python",
   "name": "python",
   "nbconvert_exporter": "python",
   "pygments_lexer": "ipython3",
   "version": "3.9.7"
  }
 },
 "nbformat": 4,
 "nbformat_minor": 5
}
